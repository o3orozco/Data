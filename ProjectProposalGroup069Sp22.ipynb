{
 "cells": [
  {
   "cell_type": "markdown",
   "id": "4fc13701",
   "metadata": {},
   "source": [
    "# COGS 108 Project Proposal"
   ]
  },
  {
   "cell_type": "markdown",
   "id": "4fdf0b3b",
   "metadata": {},
   "source": [
    "## Names\n",
    "\n",
    "- Rylan Keolanui\n",
    "- Lauren Himpelmann\n",
    "- Jasmine Shafie\n",
    "- Maxim Kondrashuk\n",
    "- Ozzie Orozco"
   ]
  },
  {
   "cell_type": "markdown",
   "id": "5f0393df",
   "metadata": {},
   "source": [
    "# Research Question\n",
    "\n",
    "Is there a relationship over the last decade between the tone of the news articles from CNN and Fox and the divisiveness and radicalization of the Americans, who read articles from CNN and Fox, along the party lines (Democrat and Republican)?\n"
   ]
  },
  {
   "cell_type": "markdown",
   "id": "68874643",
   "metadata": {},
   "source": [
    "# Background and Prior Work\n",
    "\n",
    "It is widely accepted that currently the U.S. is extremely divided along the party lines. This separation between political opinions has been dividing substantially over the past decade, as social media has had increased overall use. Through this influx of accessability to news, media outlets now must work to obtain the reader's attention (3). Additionally,it is  clear that the major news sources, such as CNN and Fox, are extremely biased for their political parties, Democrat and Republican respectivley. This leads to little to no discussion of ideas in support ot the other party's stances and only ridicule of the other side (3). This phenomnena is exaberated with the constant stream of news communication on social media that can lead to creating a \"filter bubble\" (2). Within these bubbles, people reading become reaffirmed with their previous idea without showing any positive points of view from the opposing side. This reduces the moderate discusion of current events and pushs more polarization to occur.\n",
    "\n",
    "We believe that news media has not always been as divisive when discussing current events; however, as companies looked towards being profitable their priorities of what content was posted altered as well. Through the abilities to profit off social media, these major news media outlets identified that the more aggresively outspoken about a party's belief they were, the greater audience they receive. Consequently, the ability of differing opinions to appear on one's social media account,can actually increase the dislike against the other side (1). Therefore, we believe that as the use of more aggresive and intolerable tone towards the other party in media has influenced the masses to believe the majority of political parties should be conducted in a similar nature, leading to a greater divide of the citizens in the United States.\n",
    "\n",
    "-----------------------------------------------------------------------\n",
    "1. https://www.pnas.org/doi/10.1073/pnas.1804840115\n",
    "\n",
    "2. https://greatergood.berkeley.edu/article/item/is_social_media_driving_political_polarization\n",
    "\n",
    "3. https://blog.iese.edu/the-media-industry/2020/09/30/how-news-outlets-impact-polarization/"
   ]
  },
  {
   "cell_type": "markdown",
   "id": "5ee1a007",
   "metadata": {},
   "source": [
    "# Hypothesis\n",
    "\n",
    "We believe that throughout the last few decades the tone of news articles has become more aggressive and more intolerable of the other side. We also believe that Americans have become more dismissive and radicalized in their respective political view points. Thus, we hypothesize that there is a relationship between the increased aggressiveness of the main news sources, specifically CNN and Fox, and the increased dismissiveness and radicalization of the Americans."
   ]
  },
  {
   "cell_type": "markdown",
   "id": "b532a6f4",
   "metadata": {},
   "source": [
    "# Data\n",
    "\n",
    "- The variables that would be analyzed are the following:\n",
    "    - the aggressiveness of the news sources\n",
    "        * this variable would be determined through categorizing word choice in past articles to be able to quantify the increasing proportion of dismissive language over time\n",
    "    - the political standings of Americans\n",
    "    - how strongly they affiliate with their political beliefs/parties\n",
    "    - how intolerant they are of the other side\n",
    "\n",
    "- The aggresiveness of the news sources could be stored categorically through proprotion of divisive tone and separated by month/year to better see the progression & any trends over time. Political standings, party affiliation, & intolerance of the other side could be stored through numerical values. This would be done by matching values to the ideas based on a normalized scale.\n",
    "\n",
    "- The amount of observations would be determined based on the longevity of data for older dated news articles that we are able to ethically source. This would allow for a clear understanding of overall trends over time.\n",
    "\n",
    "- The observations of the news sources would be analyzed texts from news articles from CNN and Fox that will be parsed and sorted into categories. These values can then quantified to identify any trends ocurring throughout the years. The observations of the Americans' political identities and beliefs will be collected from surveys conducted. All the observations will organized from chronologicaly up until present day. \n",
    "\n",
    "Additional Ideas:\n",
    "\n",
    "- Another possible data set could be created to analyze buzzwords that are repetively used throughout all news media outlets. The tone of these buzzwords would categorized to identify if there is any correlation with them to the polarization of media consumers' brains.\n",
    "\n",
    "- Another viewpoint to be able to analyze the text from news outlets would be to monitore the narroweness of an article. This would represent the quantification of how often the same news event is being portrayed and broadcasted again and again.\n",
    "\n",
    "- One dataset currently found, containing articles from CNN from 2011-2022: https://www.kaggle.com/datasets/hadasu92/cnn-articles-after-basic-cleaning\n"
   ]
  },
  {
   "cell_type": "markdown",
   "id": "1600fa9b",
   "metadata": {},
   "source": [
    "# Ethics & Privacy\n",
    "\n",
    "- News media articles are published for audience consumption so very little privacy or terms isues that would occur from our analyzing of the text. Bias can be present based on the news media source; however that is something our hypothesis is looking to identify to what extent. For the surveys of American political viewpoints, we would remove and identifying information prior to analysis.\n",
    "- As for any potential biases for how it was collected could be present in the political affiliation surveys. Often times those that feel more strongly passionate about subject matter are the ones that would fill out an additioanl survey. Additionally, depending on the region/ group of people the survey was given out to could alter the skewing of overall affilitaion. This can be accounted for by viewing at United States surveys that are conducted for the entire nation rather than a subset of the country.\n",
    "- Through every dataset sourced, we would identify to ensure the validity and credibility of the source. Additionally, if there are any nuances or concerns that arise they would be addressed within our project.\n",
    "- There are no major issues releated to this topic as all of the outsourced data that needs to be found are made public to Americans. This includes both the articles, that are made for consumption, and surveys that allow a breakdown of American divide. \n",
    "- The issues that are present would be handled by ensuring our datasets are obtained from a free forum that allows outside consumption. Additionally, survey data would be privatized and all identifying informatin would be removed prior to any analytical work. "
   ]
  },
  {
   "cell_type": "markdown",
   "id": "01c80dea",
   "metadata": {},
   "source": [
    "# Team Expectations\n",
    "\n",
    "- Team Expectation 1: We have trust in one another to complete the tasks assigned.\n",
    "- Team Expectation 2: We will communicate about the progress we have made on our portions to ensure that everyone remains on the same page.\n",
    "- Team Expectation 3: We will show up to the planned meetups ready and prepared to work on the assignments due.\n",
    "- Team Expectation 4: We will ask each other for help and support at times when we are confused/conflicted. "
   ]
  },
  {
   "cell_type": "markdown",
   "id": "f76f137a",
   "metadata": {},
   "source": [
    " # Project Timeline Proposal\n",
    " \n",
    " \n",
    " <table>\n",
    "  <thead>\n",
    "    <tr>\n",
    "      <th>Meeting Date</th>\n",
    "      <th>Meeting Time</th>\n",
    "      <th>Completed Before Meeting</th>\n",
    "      <th>Discuss at Meeting</th>  \n",
    "    </tr>\n",
    "  </thead>\n",
    "  <tbody>\n",
    "    <tr>\n",
    "      <td>4/12</td>\n",
    "      <td>5 pm (zoom)</td>\n",
    "        <td>Look through the project reviews.</td>\n",
    "        <td>Meet and greet. Choose the 2 projects to review.</td>\n",
    "    </tr>\n",
    "    <tr>\n",
    "      <td>4/14</td>\n",
    "      <td>5 pm (geisel)</td>\n",
    "      <td>Read through the chosen projects and prepare for the review.</td>\n",
    "      <td>Worked together to complete the project review and discussed key components of what makes a good project question.</td>\n",
    "    </tr>\n",
    "    <tr>\n",
    "        <td>4/21</td>\n",
    "        <td>8 pm (zoom)</td>\n",
    "        <td>Brainstormed ideas for our project question.</td>\n",
    "        <td>Identified which idea we liked best as a group, began setting up our project proposal for submission.</td>\n",
    "    </tr>\n",
    "    <tr>\n",
    "        <td>5/4</td>\n",
    "        <td>5 pm (zoom)</td>\n",
    "        <td>Search for datasets and continue doing background research on question.</td>\n",
    "        <td>Discuss analytical approachs to the dataset. Assign group members to specfic portions of the project.</td>\n",
    "    </tr>\n",
    "    <tr>\n",
    "        <td>5/19</td>\n",
    "        <td>5 pm (zoom)</td>\n",
    "        <td>Completed assigned portion from previous meeting. Idenitfy ways to clean data.</td>\n",
    "        <td>Make our separate portions more cohesive together and ensure data is cleaned properly and effectievly for our project.</td>\n",
    "    </tr>\n",
    "    <tr>\n",
    "        <td>5/26</td>\n",
    "        <td>5 pm (zoom)</td>\n",
    "        <td>Finalizing any issues that arise within our code. Checking in with one another on progress updates.</td>\n",
    "        <td>Going through everything from the beginning to ensure validity of our code. Assigning quality checks to cross check each others work. Begin working on concluding results.</td>\n",
    "    </tr>\n",
    "    <tr>\n",
    "        <td>6/2</td>\n",
    "        <td>5 pm (zoom)</td>\n",
    "        <td>Continue working on overall projects.</td>\n",
    "        <td>Complete finishing touchs before final submission.</td>\n",
    "  </tbody>\n",
    "</table>\n",
    " "
   ]
  }
 ],
 "metadata": {
  "kernelspec": {
   "display_name": "Python 3 (ipykernel)",
   "language": "python",
   "name": "python3"
  },
  "language_info": {
   "codemirror_mode": {
    "name": "ipython",
    "version": 3
   },
   "file_extension": ".py",
   "mimetype": "text/x-python",
   "name": "python",
   "nbconvert_exporter": "python",
   "pygments_lexer": "ipython3",
   "version": "3.9.5"
  }
 },
 "nbformat": 4,
 "nbformat_minor": 5
}
