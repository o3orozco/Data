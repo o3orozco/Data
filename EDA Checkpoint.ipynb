{
 "cells": [
  {
   "cell_type": "markdown",
   "id": "56049344",
   "metadata": {},
   "source": [
    "# COGS 108 - EDA Checkpoint\n",
    "\n",
    "\n",
    "## Names\n",
    "\n",
    "- Rylan Keolanui\n",
    "- Lauren Himpelmann\n",
    "- Jasmine Shafie\n",
    "- Maxim Kondrashuk\n",
    "- Ozzie Orozco\n",
    "\n",
    "## Research Question\n",
    "\n",
    "Is there a relationship between the increase in mass shootings in the United States from 1990 to 2016 and the unemployment rates in the cities and counties in which the mass shootings took place?\n",
    "\n",
    "## Setup"
   ]
  },
  {
   "cell_type": "code",
   "execution_count": 1,
   "id": "6a0d8672",
   "metadata": {},
   "outputs": [],
   "source": [
    "import pandas as pd\n",
    "import seaborn as sns\n",
    "import numpy as np\n",
    "import matplotlib as mpl\n",
    "import matplotlib.pyplot as plt\n",
    "import matplotlib.style as style"
   ]
  },
  {
   "cell_type": "code",
   "execution_count": 2,
   "id": "108d8f30",
   "metadata": {},
   "outputs": [],
   "source": [
    "ms = pd.read_csv('Mass_shooting.csv')"
   ]
  },
  {
   "cell_type": "code",
   "execution_count": 3,
   "id": "24bb75e6",
   "metadata": {},
   "outputs": [],
   "source": [
    "ms2 = pd.read_csv('shootings3.csv')"
   ]
  },
  {
   "cell_type": "code",
   "execution_count": 4,
   "id": "0155f5fb",
   "metadata": {},
   "outputs": [],
   "source": [
    "unemployment_rates = pd.read_csv('unemployment.csv')"
   ]
  },
  {
   "cell_type": "code",
   "execution_count": 5,
   "id": "b5c6c59f",
   "metadata": {},
   "outputs": [],
   "source": [
    "usunemployment = pd.read_csv('https://raw.githubusercontent.com/maximk-8/cogs108_data/main/unemplymentdata.csv')"
   ]
  },
  {
   "cell_type": "markdown",
   "id": "8c5c7c8a",
   "metadata": {},
   "source": [
    "# Data Cleaning"
   ]
  },
  {
   "cell_type": "code",
   "execution_count": 6,
   "id": "a3e5783d",
   "metadata": {},
   "outputs": [],
   "source": [
    "#clean mass shooting datas\n",
    "ms = ms.drop(columns = ['Incident ID','Address', 'Operations'])\n",
    "#extract year to be in a separate column\n",
    "ms['Year'] = pd.to_datetime(ms['Incident Date']).dt.year\n",
    "#rename columns to match other half of dataset\n",
    "ms = ms.rename(columns = {'Incident Date':'Date','# Killed':'Fatalities', '# Injured': 'Injured', 'City Or County': 'City/County'})"
   ]
  },
  {
   "cell_type": "code",
   "execution_count": 7,
   "id": "11c35990",
   "metadata": {},
   "outputs": [
    {
     "data": {
      "text/html": [
       "<div>\n",
       "<style scoped>\n",
       "    .dataframe tbody tr th:only-of-type {\n",
       "        vertical-align: middle;\n",
       "    }\n",
       "\n",
       "    .dataframe tbody tr th {\n",
       "        vertical-align: top;\n",
       "    }\n",
       "\n",
       "    .dataframe thead th {\n",
       "        text-align: right;\n",
       "    }\n",
       "</style>\n",
       "<table border=\"1\" class=\"dataframe\">\n",
       "  <thead>\n",
       "    <tr style=\"text-align: right;\">\n",
       "      <th></th>\n",
       "      <th>Location</th>\n",
       "      <th>Date</th>\n",
       "      <th>Fatalities</th>\n",
       "      <th>Injured</th>\n",
       "      <th>Year</th>\n",
       "    </tr>\n",
       "  </thead>\n",
       "  <tbody>\n",
       "    <tr>\n",
       "      <th>0</th>\n",
       "      <td>Las Vegas, Nevada</td>\n",
       "      <td>10/1/2017</td>\n",
       "      <td>58</td>\n",
       "      <td>515</td>\n",
       "      <td>2017</td>\n",
       "    </tr>\n",
       "    <tr>\n",
       "      <th>1</th>\n",
       "      <td>San Francisco, California</td>\n",
       "      <td>6/14/2017</td>\n",
       "      <td>3</td>\n",
       "      <td>2</td>\n",
       "      <td>2017</td>\n",
       "    </tr>\n",
       "    <tr>\n",
       "      <th>2</th>\n",
       "      <td>Tunkhannock, Pennsylvania</td>\n",
       "      <td>6/7/2017</td>\n",
       "      <td>3</td>\n",
       "      <td>0</td>\n",
       "      <td>2017</td>\n",
       "    </tr>\n",
       "    <tr>\n",
       "      <th>3</th>\n",
       "      <td>Orlando, Florida</td>\n",
       "      <td>6/5/2017</td>\n",
       "      <td>5</td>\n",
       "      <td>0</td>\n",
       "      <td>2017</td>\n",
       "    </tr>\n",
       "    <tr>\n",
       "      <th>4</th>\n",
       "      <td>Kirkersville, Ohio</td>\n",
       "      <td>5/12/2017</td>\n",
       "      <td>3</td>\n",
       "      <td>0</td>\n",
       "      <td>2017</td>\n",
       "    </tr>\n",
       "  </tbody>\n",
       "</table>\n",
       "</div>"
      ],
      "text/plain": [
       "                    Location       Date  Fatalities  Injured  Year\n",
       "0          Las Vegas, Nevada  10/1/2017          58      515  2017\n",
       "1  San Francisco, California  6/14/2017           3        2  2017\n",
       "2  Tunkhannock, Pennsylvania   6/7/2017           3        0  2017\n",
       "3           Orlando, Florida   6/5/2017           5        0  2017\n",
       "4         Kirkersville, Ohio  5/12/2017           3        0  2017"
      ]
     },
     "execution_count": 7,
     "metadata": {},
     "output_type": "execute_result"
    }
   ],
   "source": [
    "#other half of the mass shooting data set\n",
    "cleanedmass = ms2.drop(columns = ['S#', 'Summary', 'Mental Health Issues', 'Race', 'Gender', 'Latitude', 'Longitude', 'Total victims'])\n",
    "cleanedmass = cleanedmass.drop(columns = ['Title'])\n",
    "cleanedmass['Year'] = pd.to_datetime(cleanedmass['Date']).dt.year\n",
    "cleanedmass.head()"
   ]
  },
  {
   "cell_type": "code",
   "execution_count": 8,
   "id": "c1dff722",
   "metadata": {},
   "outputs": [],
   "source": [
    "cities = []\n",
    "states = []\n",
    "\n",
    "#separate the city and state from one another in the dataset\n",
    "def standardize_location(string):\n",
    "    \n",
    "    for i in string:\n",
    "        arr = i.split(',')\n",
    "        try: \n",
    "            city = arr[0]\n",
    "            state = arr[1]\n",
    "        except: \n",
    "            city = np.nan\n",
    "            state = np.nan\n",
    "        cities.append(city)\n",
    "        states.append(state)\n",
    "    \n",
    "    "
   ]
  },
  {
   "cell_type": "code",
   "execution_count": 9,
   "id": "a78bdb31",
   "metadata": {},
   "outputs": [],
   "source": [
    "location = cleanedmass['Location'].tolist()\n",
    "standardize_location(location)"
   ]
  },
  {
   "cell_type": "code",
   "execution_count": 10,
   "id": "d2f71d15",
   "metadata": {},
   "outputs": [],
   "source": [
    "cleanedmass['City/County'] = cities\n",
    "cleanedmass['State'] = states"
   ]
  },
  {
   "cell_type": "code",
   "execution_count": 11,
   "id": "3f0eb163",
   "metadata": {},
   "outputs": [
    {
     "data": {
      "text/html": [
       "<div>\n",
       "<style scoped>\n",
       "    .dataframe tbody tr th:only-of-type {\n",
       "        vertical-align: middle;\n",
       "    }\n",
       "\n",
       "    .dataframe tbody tr th {\n",
       "        vertical-align: top;\n",
       "    }\n",
       "\n",
       "    .dataframe thead th {\n",
       "        text-align: right;\n",
       "    }\n",
       "</style>\n",
       "<table border=\"1\" class=\"dataframe\">\n",
       "  <thead>\n",
       "    <tr style=\"text-align: right;\">\n",
       "      <th></th>\n",
       "      <th>Date</th>\n",
       "      <th>State</th>\n",
       "      <th>City/County</th>\n",
       "      <th>Fatalities</th>\n",
       "      <th>Injured</th>\n",
       "      <th>Year</th>\n",
       "    </tr>\n",
       "  </thead>\n",
       "  <tbody>\n",
       "    <tr>\n",
       "      <th>0</th>\n",
       "      <td>10/1/2017</td>\n",
       "      <td>Nevada</td>\n",
       "      <td>Las Vegas</td>\n",
       "      <td>58</td>\n",
       "      <td>515</td>\n",
       "      <td>2017</td>\n",
       "    </tr>\n",
       "    <tr>\n",
       "      <th>1</th>\n",
       "      <td>6/14/2017</td>\n",
       "      <td>California</td>\n",
       "      <td>San Francisco</td>\n",
       "      <td>3</td>\n",
       "      <td>2</td>\n",
       "      <td>2017</td>\n",
       "    </tr>\n",
       "    <tr>\n",
       "      <th>2</th>\n",
       "      <td>6/7/2017</td>\n",
       "      <td>Pennsylvania</td>\n",
       "      <td>Tunkhannock</td>\n",
       "      <td>3</td>\n",
       "      <td>0</td>\n",
       "      <td>2017</td>\n",
       "    </tr>\n",
       "    <tr>\n",
       "      <th>3</th>\n",
       "      <td>6/5/2017</td>\n",
       "      <td>Florida</td>\n",
       "      <td>Orlando</td>\n",
       "      <td>5</td>\n",
       "      <td>0</td>\n",
       "      <td>2017</td>\n",
       "    </tr>\n",
       "    <tr>\n",
       "      <th>4</th>\n",
       "      <td>5/12/2017</td>\n",
       "      <td>Ohio</td>\n",
       "      <td>Kirkersville</td>\n",
       "      <td>3</td>\n",
       "      <td>0</td>\n",
       "      <td>2017</td>\n",
       "    </tr>\n",
       "    <tr>\n",
       "      <th>...</th>\n",
       "      <td>...</td>\n",
       "      <td>...</td>\n",
       "      <td>...</td>\n",
       "      <td>...</td>\n",
       "      <td>...</td>\n",
       "      <td>...</td>\n",
       "    </tr>\n",
       "    <tr>\n",
       "      <th>378</th>\n",
       "      <td>1/17/1974</td>\n",
       "      <td>Illinois</td>\n",
       "      <td>Chicago</td>\n",
       "      <td>1</td>\n",
       "      <td>3</td>\n",
       "      <td>1974</td>\n",
       "    </tr>\n",
       "    <tr>\n",
       "      <th>379</th>\n",
       "      <td>12/31/1972</td>\n",
       "      <td>Louisiana</td>\n",
       "      <td>New Orleans</td>\n",
       "      <td>10</td>\n",
       "      <td>13</td>\n",
       "      <td>1972</td>\n",
       "    </tr>\n",
       "    <tr>\n",
       "      <th>380</th>\n",
       "      <td>11/11/1971</td>\n",
       "      <td>Washington</td>\n",
       "      <td>Spokane</td>\n",
       "      <td>2</td>\n",
       "      <td>4</td>\n",
       "      <td>1971</td>\n",
       "    </tr>\n",
       "    <tr>\n",
       "      <th>381</th>\n",
       "      <td>11/12/1966</td>\n",
       "      <td>Arizona</td>\n",
       "      <td>Mesa</td>\n",
       "      <td>5</td>\n",
       "      <td>1</td>\n",
       "      <td>1966</td>\n",
       "    </tr>\n",
       "    <tr>\n",
       "      <th>382</th>\n",
       "      <td>8/1/1966</td>\n",
       "      <td>Texas</td>\n",
       "      <td>Austin</td>\n",
       "      <td>17</td>\n",
       "      <td>32</td>\n",
       "      <td>1966</td>\n",
       "    </tr>\n",
       "  </tbody>\n",
       "</table>\n",
       "<p>383 rows × 6 columns</p>\n",
       "</div>"
      ],
      "text/plain": [
       "           Date          State    City/County  Fatalities  Injured  Year\n",
       "0     10/1/2017         Nevada      Las Vegas          58      515  2017\n",
       "1     6/14/2017     California  San Francisco           3        2  2017\n",
       "2      6/7/2017   Pennsylvania    Tunkhannock           3        0  2017\n",
       "3      6/5/2017        Florida        Orlando           5        0  2017\n",
       "4     5/12/2017           Ohio   Kirkersville           3        0  2017\n",
       "..          ...            ...            ...         ...      ...   ...\n",
       "378   1/17/1974       Illinois        Chicago           1        3  1974\n",
       "379  12/31/1972      Louisiana    New Orleans          10       13  1972\n",
       "380  11/11/1971     Washington        Spokane           2        4  1971\n",
       "381  11/12/1966        Arizona           Mesa           5        1  1966\n",
       "382    8/1/1966          Texas         Austin          17       32  1966\n",
       "\n",
       "[383 rows x 6 columns]"
      ]
     },
     "execution_count": 11,
     "metadata": {},
     "output_type": "execute_result"
    }
   ],
   "source": [
    "cleanedmass = cleanedmass[['Date','State', 'City/County', 'Fatalities', 'Injured','Year']]\n",
    "cleanedmass"
   ]
  },
  {
   "cell_type": "code",
   "execution_count": 12,
   "id": "de4393e5",
   "metadata": {},
   "outputs": [],
   "source": [
    "#combine the two mass shooting dataset\n",
    "ms = pd.concat([ms, cleanedmass])"
   ]
  },
  {
   "cell_type": "code",
   "execution_count": 33,
   "id": "c73fce9d",
   "metadata": {},
   "outputs": [
    {
     "data": {
      "text/html": [
       "<div>\n",
       "<style scoped>\n",
       "    .dataframe tbody tr th:only-of-type {\n",
       "        vertical-align: middle;\n",
       "    }\n",
       "\n",
       "    .dataframe tbody tr th {\n",
       "        vertical-align: top;\n",
       "    }\n",
       "\n",
       "    .dataframe thead th {\n",
       "        text-align: right;\n",
       "    }\n",
       "</style>\n",
       "<table border=\"1\" class=\"dataframe\">\n",
       "  <thead>\n",
       "    <tr style=\"text-align: right;\">\n",
       "      <th></th>\n",
       "      <th>Date</th>\n",
       "      <th>State</th>\n",
       "      <th>City/County</th>\n",
       "      <th>Fatalities</th>\n",
       "      <th>Injured</th>\n",
       "      <th>Year</th>\n",
       "      <th>Total</th>\n",
       "    </tr>\n",
       "  </thead>\n",
       "  <tbody>\n",
       "    <tr>\n",
       "      <th>1857</th>\n",
       "      <td>December 31, 2016</td>\n",
       "      <td>Georgia</td>\n",
       "      <td>Lenox (El Dorado)</td>\n",
       "      <td>2</td>\n",
       "      <td>2</td>\n",
       "      <td>2016</td>\n",
       "      <td>4</td>\n",
       "    </tr>\n",
       "    <tr>\n",
       "      <th>1858</th>\n",
       "      <td>December 31, 2016</td>\n",
       "      <td>Texas</td>\n",
       "      <td>Houston</td>\n",
       "      <td>1</td>\n",
       "      <td>3</td>\n",
       "      <td>2016</td>\n",
       "      <td>4</td>\n",
       "    </tr>\n",
       "    <tr>\n",
       "      <th>1859</th>\n",
       "      <td>December 30, 2016</td>\n",
       "      <td>Ohio</td>\n",
       "      <td>Mansfield</td>\n",
       "      <td>0</td>\n",
       "      <td>5</td>\n",
       "      <td>2016</td>\n",
       "      <td>5</td>\n",
       "    </tr>\n",
       "    <tr>\n",
       "      <th>1860</th>\n",
       "      <td>December 30, 2016</td>\n",
       "      <td>Connecticut</td>\n",
       "      <td>Wallingford</td>\n",
       "      <td>2</td>\n",
       "      <td>3</td>\n",
       "      <td>2016</td>\n",
       "      <td>5</td>\n",
       "    </tr>\n",
       "    <tr>\n",
       "      <th>1861</th>\n",
       "      <td>December 28, 2016</td>\n",
       "      <td>Georgia</td>\n",
       "      <td>Columbus</td>\n",
       "      <td>1</td>\n",
       "      <td>4</td>\n",
       "      <td>2016</td>\n",
       "      <td>5</td>\n",
       "    </tr>\n",
       "    <tr>\n",
       "      <th>...</th>\n",
       "      <td>...</td>\n",
       "      <td>...</td>\n",
       "      <td>...</td>\n",
       "      <td>...</td>\n",
       "      <td>...</td>\n",
       "      <td>...</td>\n",
       "      <td>...</td>\n",
       "    </tr>\n",
       "    <tr>\n",
       "      <th>338</th>\n",
       "      <td>10/16/1991</td>\n",
       "      <td>Texas</td>\n",
       "      <td>Killeen</td>\n",
       "      <td>24</td>\n",
       "      <td>20</td>\n",
       "      <td>1991</td>\n",
       "      <td>44</td>\n",
       "    </tr>\n",
       "    <tr>\n",
       "      <th>339</th>\n",
       "      <td>10/10/1991</td>\n",
       "      <td>New Jersey</td>\n",
       "      <td>Ridgewood</td>\n",
       "      <td>3</td>\n",
       "      <td>0</td>\n",
       "      <td>1991</td>\n",
       "      <td>3</td>\n",
       "    </tr>\n",
       "    <tr>\n",
       "      <th>340</th>\n",
       "      <td>8/9/1991</td>\n",
       "      <td>Arizona</td>\n",
       "      <td>Phoenix</td>\n",
       "      <td>9</td>\n",
       "      <td>0</td>\n",
       "      <td>1991</td>\n",
       "      <td>9</td>\n",
       "    </tr>\n",
       "    <tr>\n",
       "      <th>341</th>\n",
       "      <td>6/18/1990</td>\n",
       "      <td>Florida</td>\n",
       "      <td>Jacksonville</td>\n",
       "      <td>10</td>\n",
       "      <td>4</td>\n",
       "      <td>1990</td>\n",
       "      <td>14</td>\n",
       "    </tr>\n",
       "    <tr>\n",
       "      <th>342</th>\n",
       "      <td>6/17/1990</td>\n",
       "      <td>Florida</td>\n",
       "      <td>Jacksonville</td>\n",
       "      <td>12</td>\n",
       "      <td>6</td>\n",
       "      <td>1990</td>\n",
       "      <td>18</td>\n",
       "    </tr>\n",
       "  </tbody>\n",
       "</table>\n",
       "<p>479 rows × 7 columns</p>\n",
       "</div>"
      ],
      "text/plain": [
       "                   Date        State        City/County  Fatalities  Injured  \\\n",
       "1857  December 31, 2016      Georgia  Lenox (El Dorado)           2        2   \n",
       "1858  December 31, 2016        Texas            Houston           1        3   \n",
       "1859  December 30, 2016         Ohio          Mansfield           0        5   \n",
       "1860  December 30, 2016  Connecticut        Wallingford           2        3   \n",
       "1861  December 28, 2016      Georgia           Columbus           1        4   \n",
       "...                 ...          ...                ...         ...      ...   \n",
       "338          10/16/1991        Texas            Killeen          24       20   \n",
       "339          10/10/1991   New Jersey          Ridgewood           3        0   \n",
       "340            8/9/1991      Arizona            Phoenix           9        0   \n",
       "341           6/18/1990      Florida       Jacksonville          10        4   \n",
       "342           6/17/1990      Florida       Jacksonville          12        6   \n",
       "\n",
       "      Year  Total  \n",
       "1857  2016      4  \n",
       "1858  2016      4  \n",
       "1859  2016      5  \n",
       "1860  2016      5  \n",
       "1861  2016      5  \n",
       "...    ...    ...  \n",
       "338   1991     44  \n",
       "339   1991      3  \n",
       "340   1991      9  \n",
       "341   1990     14  \n",
       "342   1990     18  \n",
       "\n",
       "[479 rows x 7 columns]"
      ]
     },
     "execution_count": 33,
     "metadata": {},
     "output_type": "execute_result"
    }
   ],
   "source": [
    "#extract 1990 - 2016 dataset\n",
    "ms = ms[(ms['Year'] < 2017)]\n",
    "ms = ms[(ms['Year'] > 1989)]\n",
    "ms['Total'] = ms['Fatalities'] + ms['Injured']\n",
    "ms"
   ]
  },
  {
   "cell_type": "code",
   "execution_count": 14,
   "id": "92a0e5e7",
   "metadata": {},
   "outputs": [],
   "source": [
    "unemployment_rates = unemployment_rates.sort_values('Year', ascending = False).reset_index()\n",
    "unemployment_rates = unemployment_rates.drop(columns = ['index'])"
   ]
  },
  {
   "cell_type": "markdown",
   "id": "b3043aa9",
   "metadata": {},
   "source": [
    "## Data Cleaning Explanation\n",
    "\n",
    "For our datasets, we had 2 separate datasets for our Mass Shooting datas. To begin we needed to clean them both separately and be able to organize it and match them up together before being able to combine them together. For the first half of the data set (ms) we had to drop certain columns that involved either too many NaN values or information that is unneeded for analysis. From there we renamed the columns so that they would match with the second mass shooting data set (cleanedmass). For that dataset we had to not only remove all the unknown variables and any information that is unneeded, we also had to extract the location and separate it into two separate columns. This was done by creating a function that would run through the elements of that column and be able to split the string into two sepearate arrays. One array would contain the value for the state that the shooting occurred in and the other would be for the city. This was then added to the original dataset and the dataset was then reorganized to be in the same order of columns as the other dataset. We added them together to create one complete dataset that contained information for all the years selected, but we then needed to reduce it to contain only the years that were present in our unemployment data. This was done by extracting only the years that were included in 1990-2016. From here we have been able to completely clean the mass shooting dataset to be ready to go for our analysis.\n",
    "\n",
    "For our unemployment dataset, this data did not contain much unnecessary information so the only cleaning we needed to do was to organize the data to be in the proper order of chronological order. As we completed this we are now able to begin our data analysis. "
   ]
  },
  {
   "cell_type": "markdown",
   "id": "e63d3752",
   "metadata": {},
   "source": [
    "# Data Analysis & Results (EDA)\n",
    "\n"
   ]
  },
  {
   "cell_type": "code",
   "execution_count": 29,
   "id": "741a06c5",
   "metadata": {},
   "outputs": [
    {
     "data": {
      "text/html": [
       "<div>\n",
       "<style scoped>\n",
       "    .dataframe tbody tr th:only-of-type {\n",
       "        vertical-align: middle;\n",
       "    }\n",
       "\n",
       "    .dataframe tbody tr th {\n",
       "        vertical-align: top;\n",
       "    }\n",
       "\n",
       "    .dataframe thead th {\n",
       "        text-align: right;\n",
       "    }\n",
       "</style>\n",
       "<table border=\"1\" class=\"dataframe\">\n",
       "  <thead>\n",
       "    <tr style=\"text-align: right;\">\n",
       "      <th></th>\n",
       "      <th>Year</th>\n",
       "      <th>Jan</th>\n",
       "      <th>Feb</th>\n",
       "      <th>Mar</th>\n",
       "      <th>Apr</th>\n",
       "      <th>May</th>\n",
       "      <th>Jun</th>\n",
       "      <th>Jul</th>\n",
       "      <th>Aug</th>\n",
       "      <th>Sep</th>\n",
       "      <th>Oct</th>\n",
       "      <th>Nov</th>\n",
       "      <th>Dec</th>\n",
       "    </tr>\n",
       "  </thead>\n",
       "  <tbody>\n",
       "    <tr>\n",
       "      <th>0</th>\n",
       "      <td>1990</td>\n",
       "      <td>5.4</td>\n",
       "      <td>5.3</td>\n",
       "      <td>5.2</td>\n",
       "      <td>5.4</td>\n",
       "      <td>5.4</td>\n",
       "      <td>5.2</td>\n",
       "      <td>5.5</td>\n",
       "      <td>5.7</td>\n",
       "      <td>5.9</td>\n",
       "      <td>5.9</td>\n",
       "      <td>6.2</td>\n",
       "      <td>6.3</td>\n",
       "    </tr>\n",
       "    <tr>\n",
       "      <th>1</th>\n",
       "      <td>1991</td>\n",
       "      <td>6.4</td>\n",
       "      <td>6.6</td>\n",
       "      <td>6.8</td>\n",
       "      <td>6.7</td>\n",
       "      <td>6.9</td>\n",
       "      <td>6.9</td>\n",
       "      <td>6.8</td>\n",
       "      <td>6.9</td>\n",
       "      <td>6.9</td>\n",
       "      <td>7.0</td>\n",
       "      <td>7.0</td>\n",
       "      <td>7.3</td>\n",
       "    </tr>\n",
       "    <tr>\n",
       "      <th>2</th>\n",
       "      <td>1992</td>\n",
       "      <td>7.3</td>\n",
       "      <td>7.4</td>\n",
       "      <td>7.4</td>\n",
       "      <td>7.4</td>\n",
       "      <td>7.6</td>\n",
       "      <td>7.8</td>\n",
       "      <td>7.7</td>\n",
       "      <td>7.6</td>\n",
       "      <td>7.6</td>\n",
       "      <td>7.3</td>\n",
       "      <td>7.4</td>\n",
       "      <td>7.4</td>\n",
       "    </tr>\n",
       "    <tr>\n",
       "      <th>3</th>\n",
       "      <td>1993</td>\n",
       "      <td>7.3</td>\n",
       "      <td>7.1</td>\n",
       "      <td>7.0</td>\n",
       "      <td>7.1</td>\n",
       "      <td>7.1</td>\n",
       "      <td>7.0</td>\n",
       "      <td>6.9</td>\n",
       "      <td>6.8</td>\n",
       "      <td>6.7</td>\n",
       "      <td>6.8</td>\n",
       "      <td>6.6</td>\n",
       "      <td>6.5</td>\n",
       "    </tr>\n",
       "    <tr>\n",
       "      <th>4</th>\n",
       "      <td>1994</td>\n",
       "      <td>6.6</td>\n",
       "      <td>6.6</td>\n",
       "      <td>6.5</td>\n",
       "      <td>6.4</td>\n",
       "      <td>6.1</td>\n",
       "      <td>6.1</td>\n",
       "      <td>6.1</td>\n",
       "      <td>6.0</td>\n",
       "      <td>5.9</td>\n",
       "      <td>5.8</td>\n",
       "      <td>5.6</td>\n",
       "      <td>5.5</td>\n",
       "    </tr>\n",
       "  </tbody>\n",
       "</table>\n",
       "</div>"
      ],
      "text/plain": [
       "   Year  Jan  Feb  Mar  Apr  May  Jun  Jul  Aug  Sep  Oct  Nov  Dec\n",
       "0  1990  5.4  5.3  5.2  5.4  5.4  5.2  5.5  5.7  5.9  5.9  6.2  6.3\n",
       "1  1991  6.4  6.6  6.8  6.7  6.9  6.9  6.8  6.9  6.9  7.0  7.0  7.3\n",
       "2  1992  7.3  7.4  7.4  7.4  7.6  7.8  7.7  7.6  7.6  7.3  7.4  7.4\n",
       "3  1993  7.3  7.1  7.0  7.1  7.1  7.0  6.9  6.8  6.7  6.8  6.6  6.5\n",
       "4  1994  6.6  6.6  6.5  6.4  6.1  6.1  6.1  6.0  5.9  5.8  5.6  5.5"
      ]
     },
     "execution_count": 29,
     "metadata": {},
     "output_type": "execute_result"
    }
   ],
   "source": [
    "usunemployment.head()"
   ]
  },
  {
   "cell_type": "code",
   "execution_count": 30,
   "id": "54f445e7",
   "metadata": {},
   "outputs": [
    {
     "data": {
      "text/html": [
       "<div>\n",
       "<style scoped>\n",
       "    .dataframe tbody tr th:only-of-type {\n",
       "        vertical-align: middle;\n",
       "    }\n",
       "\n",
       "    .dataframe tbody tr th {\n",
       "        vertical-align: top;\n",
       "    }\n",
       "\n",
       "    .dataframe thead th {\n",
       "        text-align: right;\n",
       "    }\n",
       "</style>\n",
       "<table border=\"1\" class=\"dataframe\">\n",
       "  <thead>\n",
       "    <tr style=\"text-align: right;\">\n",
       "      <th></th>\n",
       "      <th>Year</th>\n",
       "      <th>Month</th>\n",
       "      <th>State</th>\n",
       "      <th>County</th>\n",
       "      <th>Rate</th>\n",
       "    </tr>\n",
       "  </thead>\n",
       "  <tbody>\n",
       "    <tr>\n",
       "      <th>0</th>\n",
       "      <td>2016</td>\n",
       "      <td>January</td>\n",
       "      <td>Washington</td>\n",
       "      <td>Adams County</td>\n",
       "      <td>10.3</td>\n",
       "    </tr>\n",
       "    <tr>\n",
       "      <th>1</th>\n",
       "      <td>2016</td>\n",
       "      <td>May</td>\n",
       "      <td>Mississippi</td>\n",
       "      <td>Jefferson Davis County</td>\n",
       "      <td>8.1</td>\n",
       "    </tr>\n",
       "    <tr>\n",
       "      <th>2</th>\n",
       "      <td>2016</td>\n",
       "      <td>May</td>\n",
       "      <td>Mississippi</td>\n",
       "      <td>Noxubee County</td>\n",
       "      <td>9.2</td>\n",
       "    </tr>\n",
       "    <tr>\n",
       "      <th>3</th>\n",
       "      <td>2016</td>\n",
       "      <td>May</td>\n",
       "      <td>Mississippi</td>\n",
       "      <td>Lamar County</td>\n",
       "      <td>4.8</td>\n",
       "    </tr>\n",
       "    <tr>\n",
       "      <th>4</th>\n",
       "      <td>2016</td>\n",
       "      <td>May</td>\n",
       "      <td>Mississippi</td>\n",
       "      <td>Lee County</td>\n",
       "      <td>5.0</td>\n",
       "    </tr>\n",
       "  </tbody>\n",
       "</table>\n",
       "</div>"
      ],
      "text/plain": [
       "   Year    Month        State                  County  Rate\n",
       "0  2016  January   Washington            Adams County  10.3\n",
       "1  2016      May  Mississippi  Jefferson Davis County   8.1\n",
       "2  2016      May  Mississippi          Noxubee County   9.2\n",
       "3  2016      May  Mississippi            Lamar County   4.8\n",
       "4  2016      May  Mississippi              Lee County   5.0"
      ]
     },
     "execution_count": 30,
     "metadata": {},
     "output_type": "execute_result"
    }
   ],
   "source": [
    "unemployment_rates.head()"
   ]
  },
  {
   "cell_type": "code",
   "execution_count": 18,
   "id": "a1699ab3",
   "metadata": {},
   "outputs": [
    {
     "data": {
      "text/plain": [
       "<AxesSubplot:xlabel='Year', ylabel='Rate'>"
      ]
     },
     "execution_count": 18,
     "metadata": {},
     "output_type": "execute_result"
    },
    {
     "data": {
      "image/png": "[encoded data removed]",
      "text/plain": [
       "<Figure size 432x288 with 1 Axes>"
      ]
     },
     "metadata": {
      "needs_background": "light"
     },
     "output_type": "display_data"
    }
   ],
   "source": [
    "#shows the average unemployment rates from each year during the range 1990-2016\n",
    "sns.lineplot(x = 'Year', y = 'Rate', data = unemployment_rates)"
   ]
  },
  {
   "cell_type": "markdown",
   "id": "85fbac3d",
   "metadata": {},
   "source": [
    "To begin, we plotted out the average unemployment rates over the selected year ranges to better understand at what period of time there was greater unemployment. From this we were able to visualize how in 2000 there was the lowest unemployment rates and in 2010 there was the greatest. At this point, based on our hypothesis we presume that 2000 would have the least amount of mass shootings and 2010 would have the greatest. This is what we further investigate. "
   ]
  },
  {
   "cell_type": "code",
   "execution_count": 38,
   "id": "ea541529",
   "metadata": {},
   "outputs": [
    {
     "data": {
      "text/plain": [
       "<matplotlib.legend.Legend at 0x7f581e37b7f0>"
      ]
     },
     "execution_count": 38,
     "metadata": {},
     "output_type": "execute_result"
    },
    {
     "data": {
      "image/png": "[encoded data removed]",
      "text/plain": [
       "<Figure size 432x288 with 1 Axes>"
      ]
     },
     "metadata": {
      "needs_background": "light"
     },
     "output_type": "display_data"
    }
   ],
   "source": [
    "sns.lineplot(x = 'Year', y = 'Fatalities', ci = None, data = ms)\n",
    "sns.lineplot(x = 'Year', y = 'Injured', ci = None, data = ms)\n",
    "sns.lineplot(x = 'Year', y = 'Total', ci = None, data = ms)\n",
    "plt.legend(labels = ['Fatalities', 'Injured', 'Total'])"
   ]
  },
  {
   "cell_type": "markdown",
   "id": "b8224ef9",
   "metadata": {},
   "source": [
    "Through this graph we are able to visualize the fatalities, injured, and the combined total. This graph allows us to see the effect the mass shooting had on the group of individuals that were present. From visualizing this data it shows that there was dip in 1995 and 2000 towards the amount of people that were harmed and a peak in 2010 as far as the same parameters. This could indicate that there is some sort of correlation with mass shootings and unemployment rate, but the next step is to see how many mass shootings are occurring during these time periods. "
   ]
  },
  {
   "cell_type": "code",
   "execution_count": 39,
   "id": "15bec347",
   "metadata": {},
   "outputs": [
    {
     "data": {
      "text/plain": [
       "<AxesSubplot:xlabel='Year', ylabel='count'>"
      ]
     },
     "execution_count": 39,
     "metadata": {},
     "output_type": "execute_result"
    },
    {
     "data": {
      "image/png": "[encoded data removed]",
      "text/plain": [
       "<Figure size 1080x576 with 1 Axes>"
      ]
     },
     "metadata": {
      "needs_background": "light"
     },
     "output_type": "display_data"
    }
   ],
   "source": [
    "plt.figure(figsize = (15, 8))\n",
    "sns.countplot(x = 'Year', data = ms)"
   ]
  },
  {
   "cell_type": "markdown",
   "id": "c129bf0f",
   "metadata": {},
   "source": [
    "This plot indicates the amount of mass shootings that occur in each prospective year. There is a peak in 2016 which does not relate towards the unemployment rates that we were identifying earlier. There must be some confounding elements that need to be discovered. Additionally, it appears that there is a big jump in the number of mass shootings starting in 2015 and it grew rapidily in 2016 that appears to be an outlier in comparison to the remainder of the data. This is something that does not appear to be related to the unemployment rates regardless of the region that is occurs."
   ]
  },
  {
   "cell_type": "code",
   "execution_count": 24,
   "id": "07944f00",
   "metadata": {},
   "outputs": [
    {
     "data": {
      "text/plain": [
       "<AxesSubplot:>"
      ]
     },
     "execution_count": 24,
     "metadata": {},
     "output_type": "execute_result"
    },
    {
     "data": {
      "image/png": "[encoded data removed]",
      "text/plain": [
       "<Figure size 432x288 with 1 Axes>"
      ]
     },
     "metadata": {
      "needs_background": "light"
     },
     "output_type": "display_data"
    }
   ],
   "source": [
    "ms['City/County'].value_counts().nlargest(10).sort_values().plot(kind = 'barh')"
   ]
  },
  {
   "cell_type": "code",
   "execution_count": 25,
   "id": "cd778d3f",
   "metadata": {},
   "outputs": [
    {
     "data": {
      "text/plain": [
       "<AxesSubplot:>"
      ]
     },
     "execution_count": 25,
     "metadata": {},
     "output_type": "execute_result"
    },
    {
     "data": {
      "image/png": "[encoded data removed]",
      "text/plain": [
       "<Figure size 432x288 with 1 Axes>"
      ]
     },
     "metadata": {
      "needs_background": "light"
     },
     "output_type": "display_data"
    }
   ],
   "source": [
    "ms['State'].value_counts().nlargest(10).sort_values().plot(kind = 'barh')"
   ]
  },
  {
   "cell_type": "markdown",
   "id": "b5582236",
   "metadata": {},
   "source": [
    "These two graphs will allow us to analyze how many mass shootings occur based on the region (either City/County or State)."
   ]
  }
 ],
 "metadata": {
  "kernelspec": {
   "display_name": "Python 3 (ipykernel)",
   "language": "python",
   "name": "python3"
  },
  "language_info": {
   "codemirror_mode": {
    "name": "ipython",
    "version": 3
   },
   "file_extension": ".py",
   "mimetype": "text/x-python",
   "name": "python",
   "nbconvert_exporter": "python",
   "pygments_lexer": "ipython3",
   "version": "3.9.5"
  }
 },
 "nbformat": 4,
 "nbformat_minor": 5
}
